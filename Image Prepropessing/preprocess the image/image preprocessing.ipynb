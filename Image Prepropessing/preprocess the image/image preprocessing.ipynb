from tensorflow.keras.preprocessing.image import ImageDataGenerator
train_datagen=ImageDataGenerator(rescale=1./255,zoom_range=0.2,horizontal_flip=True,vertical_flip=False)
test_datagen=ImageDataGenerator(rescale=1./255)
x_train=train_datagen.flow_from_directory(r"C:\Users\\ibm\Desktop\Data\Dataset Plant Disease\Veg-dataset\Veg-dataset\train_set",target_size=(128,128),
                                        class_mode='categorical',batch_size=24)
Found 11386 images belonging to 9 classes.
x_test=test_datagen.flow_from_directory(r'C:\Users\ibm\Desktop\Data\Dataset Plant Disease\Veg-dataset\Veg-dataset\test_set',target_size=(128,128),
                                        class_mode='categorical',batch_size=24)
Found 3416 images belonging to 9 classes.
x_train = train_datagen.flow_from_directory(r'C:\Users\ibm\Desktop\Data\Dataset Plant Disease\fruit-dataset\fruit-dataset\test',target_size = (128,128), batch_size = 32, class_mode = 'categorical')
x_test = test_datagen.flow_from_directory(r'C:\Users\ibm\Desktop\Data\Dataset Plant Disease\fruit-dataset\fruit-dataset\train',target_size = (128,128), batch_size = 32, class_mode = 'categorical')
Found 1686 images belonging to 6 classes.
Found 5384 images belonging to 6 classes.